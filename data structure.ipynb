{
 "cells": [
  {
   "cell_type": "code",
   "execution_count": 1,
   "id": "8fd29e6e-8f70-4def-a8f0-b06ffa218590",
   "metadata": {},
   "outputs": [],
   "source": [
    "a=[1,2,3.3,'baingan','tomato','banana',True,False,(3+7j)]"
   ]
  },
  {
   "cell_type": "code",
   "execution_count": 2,
   "id": "343951f6-daca-4ba8-a7e6-6a75bb20d0c9",
   "metadata": {},
   "outputs": [
    {
     "data": {
      "text/plain": [
       "[1, 2, 3.3, 'baingan', 'tomato', 'banana', True, False, (3+7j)]"
      ]
     },
     "execution_count": 2,
     "metadata": {},
     "output_type": "execute_result"
    }
   ],
   "source": [
    "a"
   ]
  },
  {
   "cell_type": "code",
   "execution_count": 3,
   "id": "519f872b-20c6-4537-89a5-742d694ff5c9",
   "metadata": {},
   "outputs": [],
   "source": [
    "a.append(\"orange\")"
   ]
  },
  {
   "cell_type": "code",
   "execution_count": 4,
   "id": "db0f645e-78c8-40ac-91c3-680578a78ffd",
   "metadata": {},
   "outputs": [
    {
     "data": {
      "text/plain": [
       "[1, 2, 3.3, 'baingan', 'tomato', 'banana', True, False, (3+7j), 'orange']"
      ]
     },
     "execution_count": 4,
     "metadata": {},
     "output_type": "execute_result"
    }
   ],
   "source": [
    "a"
   ]
  },
  {
   "cell_type": "code",
   "execution_count": 5,
   "id": "390cee53-416a-48c1-808e-45596c689962",
   "metadata": {},
   "outputs": [],
   "source": [
    "a.append(\"pwskills\")"
   ]
  },
  {
   "cell_type": "code",
   "execution_count": 6,
   "id": "c915cef8-42df-423a-9481-f7936a058d15",
   "metadata": {},
   "outputs": [
    {
     "data": {
      "text/plain": [
       "[1,\n",
       " 2,\n",
       " 3.3,\n",
       " 'baingan',\n",
       " 'tomato',\n",
       " 'banana',\n",
       " True,\n",
       " False,\n",
       " (3+7j),\n",
       " 'orange',\n",
       " 'pwskills']"
      ]
     },
     "execution_count": 6,
     "metadata": {},
     "output_type": "execute_result"
    }
   ],
   "source": [
    "a"
   ]
  },
  {
   "cell_type": "code",
   "execution_count": 7,
   "id": "11fa7970-fa43-44ea-9743-4dedcbfe227b",
   "metadata": {},
   "outputs": [],
   "source": [
    "a.remove(\"pwskills\")"
   ]
  },
  {
   "cell_type": "code",
   "execution_count": 8,
   "id": "7f5343c1-e5e8-42d6-b091-11b5c3589c9c",
   "metadata": {},
   "outputs": [
    {
     "data": {
      "text/plain": [
       "[1, 2, 3.3, 'baingan', 'tomato', 'banana', True, False, (3+7j), 'orange']"
      ]
     },
     "execution_count": 8,
     "metadata": {},
     "output_type": "execute_result"
    }
   ],
   "source": [
    "a"
   ]
  },
  {
   "cell_type": "code",
   "execution_count": 9,
   "id": "5bd7db20-e434-4c18-b087-76fd05135edd",
   "metadata": {},
   "outputs": [],
   "source": [
    "a.remove(\"baingan\")"
   ]
  },
  {
   "cell_type": "code",
   "execution_count": 10,
   "id": "14090cd6-874b-41f8-93c3-125fe9c65878",
   "metadata": {},
   "outputs": [
    {
     "data": {
      "text/plain": [
       "[1, 2, 3.3, 'tomato', 'banana', True, False, (3+7j), 'orange']"
      ]
     },
     "execution_count": 10,
     "metadata": {},
     "output_type": "execute_result"
    }
   ],
   "source": [
    "a"
   ]
  },
  {
   "cell_type": "code",
   "execution_count": 11,
   "id": "5ee310a0-f1eb-4a34-8412-61b6e6aea330",
   "metadata": {},
   "outputs": [],
   "source": [
    "lis = [[1,2,3],[4,5,6],[7,8,9]]"
   ]
  },
  {
   "cell_type": "code",
   "execution_count": 12,
   "id": "b3ccae09-11d2-46e6-bb06-81d44934f509",
   "metadata": {},
   "outputs": [
    {
     "data": {
      "text/plain": [
       "[[1, 2, 3], [4, 5, 6], [7, 8, 9]]"
      ]
     },
     "execution_count": 12,
     "metadata": {},
     "output_type": "execute_result"
    }
   ],
   "source": [
    "lis"
   ]
  },
  {
   "cell_type": "code",
   "execution_count": 14,
   "id": "51ecf9ff-d7c8-473d-910c-715f3ce62f1c",
   "metadata": {},
   "outputs": [
    {
     "data": {
      "text/plain": [
       "list"
      ]
     },
     "execution_count": 14,
     "metadata": {},
     "output_type": "execute_result"
    }
   ],
   "source": [
    "type(lis)"
   ]
  },
  {
   "cell_type": "code",
   "execution_count": 15,
   "id": "165acca4-fe99-4ef5-a496-08883ebf93a0",
   "metadata": {},
   "outputs": [
    {
     "data": {
      "text/plain": [
       "[1, 2, 3]"
      ]
     },
     "execution_count": 15,
     "metadata": {},
     "output_type": "execute_result"
    }
   ],
   "source": [
    "lis[0]"
   ]
  },
  {
   "cell_type": "code",
   "execution_count": 16,
   "id": "4e56dc5c-39a0-40b1-99b1-f8e4686899dd",
   "metadata": {},
   "outputs": [
    {
     "data": {
      "text/plain": [
       "[7, 8, 9]"
      ]
     },
     "execution_count": 16,
     "metadata": {},
     "output_type": "execute_result"
    }
   ],
   "source": [
    "lis[2]"
   ]
  },
  {
   "cell_type": "code",
   "execution_count": 19,
   "id": "84f42199-a3f3-4a31-90d3-5e5013887a35",
   "metadata": {},
   "outputs": [
    {
     "data": {
      "text/plain": [
       "9"
      ]
     },
     "execution_count": 19,
     "metadata": {},
     "output_type": "execute_result"
    }
   ],
   "source": [
    "lis[2][2]"
   ]
  },
  {
   "cell_type": "code",
   "execution_count": 20,
   "id": "2e59af86-f583-4a1b-8cbf-6408fa829556",
   "metadata": {},
   "outputs": [
    {
     "name": "stdout",
     "output_type": "stream",
     "text": [
      "123.3tomatobananaTrueFalse(3+7j)orange"
     ]
    }
   ],
   "source": [
    "for item in a:\n",
    "    print(item,end=\"\")"
   ]
  },
  {
   "cell_type": "code",
   "execution_count": 21,
   "id": "0d3c3e52-a658-4c74-aca9-fcdb5aa901d4",
   "metadata": {},
   "outputs": [],
   "source": [
    "point=(2,3)"
   ]
  },
  {
   "cell_type": "code",
   "execution_count": 22,
   "id": "3821ddae-8610-46ef-a6d3-e31aca4407eb",
   "metadata": {},
   "outputs": [
    {
     "data": {
      "text/plain": [
       "(2, 3)"
      ]
     },
     "execution_count": 22,
     "metadata": {},
     "output_type": "execute_result"
    }
   ],
   "source": [
    "point"
   ]
  },
  {
   "cell_type": "code",
   "execution_count": 23,
   "id": "b92347a0-6982-4096-ad90-b55b9a052cd8",
   "metadata": {},
   "outputs": [
    {
     "data": {
      "text/plain": [
       "tuple"
      ]
     },
     "execution_count": 23,
     "metadata": {},
     "output_type": "execute_result"
    }
   ],
   "source": [
    "type(point)"
   ]
  },
  {
   "cell_type": "code",
   "execution_count": 24,
   "id": "08df3dce-618f-4f97-aebe-23ee2c1a81ed",
   "metadata": {},
   "outputs": [],
   "source": [
    "box1 = (\"a\",\"b\")\n",
    "box2 = (\"c\",\"d\")\n",
    "bag = (box1,box2)"
   ]
  },
  {
   "cell_type": "code",
   "execution_count": 25,
   "id": "537db7d0-be8c-4e8a-89d3-4cdb5accdaf5",
   "metadata": {},
   "outputs": [
    {
     "data": {
      "text/plain": [
       "(('a', 'b'), ('c', 'd'))"
      ]
     },
     "execution_count": 25,
     "metadata": {},
     "output_type": "execute_result"
    }
   ],
   "source": [
    "box1\n",
    "box2\n",
    "bag"
   ]
  },
  {
   "cell_type": "code",
   "execution_count": 27,
   "id": "ea8915c8-4e87-4fcc-bbcb-c105add3aaac",
   "metadata": {},
   "outputs": [
    {
     "data": {
      "text/plain": [
       "('a', 'b')"
      ]
     },
     "execution_count": 27,
     "metadata": {},
     "output_type": "execute_result"
    }
   ],
   "source": [
    "box1"
   ]
  },
  {
   "cell_type": "code",
   "execution_count": 26,
   "id": "68ba1e5c-f323-4fdc-b508-d34f1a2867fd",
   "metadata": {},
   "outputs": [
    {
     "data": {
      "text/plain": [
       "('c', 'd')"
      ]
     },
     "execution_count": 26,
     "metadata": {},
     "output_type": "execute_result"
    }
   ],
   "source": [
    "box2"
   ]
  },
  {
   "cell_type": "code",
   "execution_count": 32,
   "id": "5b7df338-74b7-4e5d-b60a-199683fa3c88",
   "metadata": {},
   "outputs": [],
   "source": [
    "dict = {\"couse\":\"data science\",\"duration\":200}"
   ]
  },
  {
   "cell_type": "code",
   "execution_count": 33,
   "id": "e8690006-022e-4e81-900e-3b24816c8bc1",
   "metadata": {},
   "outputs": [
    {
     "data": {
      "text/plain": [
       "dict"
      ]
     },
     "execution_count": 33,
     "metadata": {},
     "output_type": "execute_result"
    }
   ],
   "source": [
    "type(dict)"
   ]
  },
  {
   "cell_type": "code",
   "execution_count": 34,
   "id": "cf628298-6207-49ac-8def-46e559ae002a",
   "metadata": {},
   "outputs": [
    {
     "data": {
      "text/plain": [
       "200"
      ]
     },
     "execution_count": 34,
     "metadata": {},
     "output_type": "execute_result"
    }
   ],
   "source": [
    "dict[\"duration\"]"
   ]
  },
  {
   "cell_type": "code",
   "execution_count": 35,
   "id": "4d8a46ec-1e05-4145-b6da-811130d3f367",
   "metadata": {},
   "outputs": [],
   "source": [
    "dict[\"duration\"]=300"
   ]
  },
  {
   "cell_type": "code",
   "execution_count": 36,
   "id": "a1c91e46-9629-4799-9a96-598b3cf553c0",
   "metadata": {},
   "outputs": [
    {
     "data": {
      "text/plain": [
       "{'couse': 'data science', 'duration': 300}"
      ]
     },
     "execution_count": 36,
     "metadata": {},
     "output_type": "execute_result"
    }
   ],
   "source": [
    "dict"
   ]
  },
  {
   "cell_type": "code",
   "execution_count": 37,
   "id": "78dfd8e1-f87c-4ea5-be5c-d86a14fa96e4",
   "metadata": {},
   "outputs": [
    {
     "data": {
      "text/plain": [
       "65"
      ]
     },
     "execution_count": 37,
     "metadata": {},
     "output_type": "execute_result"
    }
   ],
   "source": [
    "#ASCII Representation\n",
    "char = \"A\"\n",
    "ord(char)"
   ]
  },
  {
   "cell_type": "code",
   "execution_count": 38,
   "id": "65d377fe-3fcf-4f8a-8f2a-6920359e0719",
   "metadata": {},
   "outputs": [
    {
     "data": {
      "text/plain": [
       "'Σ'"
      ]
     },
     "execution_count": 38,
     "metadata": {},
     "output_type": "execute_result"
    }
   ],
   "source": [
    "#unicode representation\n",
    "'\\u03A3'"
   ]
  },
  {
   "cell_type": "code",
   "execution_count": 39,
   "id": "6a8f5010-8a9d-44bb-a2cf-6e7bfb01b70e",
   "metadata": {},
   "outputs": [
    {
     "data": {
      "text/plain": [
       "'ॴ'"
      ]
     },
     "execution_count": 39,
     "metadata": {},
     "output_type": "execute_result"
    }
   ],
   "source": [
    "'\\u0974'"
   ]
  },
  {
   "cell_type": "code",
   "execution_count": 40,
   "id": "1d348643-e302-44a7-893b-c6d6e05d49bb",
   "metadata": {},
   "outputs": [
    {
     "data": {
      "text/plain": [
       "\"'hi'\""
      ]
     },
     "execution_count": 40,
     "metadata": {},
     "output_type": "execute_result"
    }
   ],
   "source": [
    "\"'hi'\""
   ]
  },
  {
   "cell_type": "code",
   "execution_count": 41,
   "id": "bdea1fb1-a1b8-438b-83d5-5025373a0892",
   "metadata": {},
   "outputs": [],
   "source": [
    "#string\n",
    "a = \"pawan\""
   ]
  },
  {
   "cell_type": "code",
   "execution_count": 42,
   "id": "d966a813-b6d5-4a3c-b461-eeed34bfc294",
   "metadata": {},
   "outputs": [
    {
     "data": {
      "text/plain": [
       "'pawan'"
      ]
     },
     "execution_count": 42,
     "metadata": {},
     "output_type": "execute_result"
    }
   ],
   "source": [
    "a"
   ]
  },
  {
   "cell_type": "code",
   "execution_count": 47,
   "id": "bfd7598d-df0e-4346-befc-b0bf185afbbd",
   "metadata": {},
   "outputs": [
    {
     "data": {
      "text/plain": [
       "'pa'"
      ]
     },
     "execution_count": 47,
     "metadata": {},
     "output_type": "execute_result"
    }
   ],
   "source": [
    "#slicing\n",
    "a[0:2]"
   ]
  },
  {
   "cell_type": "code",
   "execution_count": 44,
   "id": "ca3bc804-a310-45c9-82f8-aed116b2124e",
   "metadata": {},
   "outputs": [
    {
     "data": {
      "text/plain": [
       "'w'"
      ]
     },
     "execution_count": 44,
     "metadata": {},
     "output_type": "execute_result"
    }
   ],
   "source": [
    "a[-3]"
   ]
  },
  {
   "cell_type": "code",
   "execution_count": 45,
   "id": "6823de1b-054b-4a60-88f9-a36ec1a511c2",
   "metadata": {},
   "outputs": [
    {
     "data": {
      "text/plain": [
       "'pa'"
      ]
     },
     "execution_count": 45,
     "metadata": {},
     "output_type": "execute_result"
    }
   ],
   "source": [
    "a[:-3]"
   ]
  },
  {
   "cell_type": "code",
   "execution_count": 46,
   "id": "08cb8c2b-2ada-40cf-9ea5-ba966a5bc856",
   "metadata": {},
   "outputs": [
    {
     "data": {
      "text/plain": [
       "'wan'"
      ]
     },
     "execution_count": 46,
     "metadata": {},
     "output_type": "execute_result"
    }
   ],
   "source": [
    "a[-3:]"
   ]
  },
  {
   "cell_type": "code",
   "execution_count": 48,
   "id": "17c5e222-d928-40f9-ab61-9507b2163ee0",
   "metadata": {},
   "outputs": [
    {
     "data": {
      "text/plain": [
       "'i am teacher'"
      ]
     },
     "execution_count": 48,
     "metadata": {},
     "output_type": "execute_result"
    }
   ],
   "source": [
    "#modification of string\n",
    "s= \"i am student\"\n",
    "s.replace(\"student\",\"teacher\")"
   ]
  },
  {
   "cell_type": "code",
   "execution_count": 2,
   "id": "a5efd948-5802-4662-be03-da6c6a0cc5d6",
   "metadata": {},
   "outputs": [],
   "source": [
    "text = \"hello world\""
   ]
  },
  {
   "cell_type": "code",
   "execution_count": 3,
   "id": "af36fec2-653f-4771-95bd-2a8af5dd129e",
   "metadata": {},
   "outputs": [
    {
     "data": {
      "text/plain": [
       "'HELLO WORLD'"
      ]
     },
     "execution_count": 3,
     "metadata": {},
     "output_type": "execute_result"
    }
   ],
   "source": [
    "text.upper()"
   ]
  },
  {
   "cell_type": "code",
   "execution_count": 4,
   "id": "c0c1d512-3b21-4784-9653-03477372f590",
   "metadata": {},
   "outputs": [
    {
     "data": {
      "text/plain": [
       "'hello world'"
      ]
     },
     "execution_count": 4,
     "metadata": {},
     "output_type": "execute_result"
    }
   ],
   "source": [
    "text.lower()"
   ]
  },
  {
   "cell_type": "code",
   "execution_count": 5,
   "id": "046e475b-ec74-42d5-bc9c-78de64cd02a6",
   "metadata": {},
   "outputs": [
    {
     "data": {
      "text/plain": [
       "'HELLO WORLD'"
      ]
     },
     "execution_count": 5,
     "metadata": {},
     "output_type": "execute_result"
    }
   ],
   "source": [
    "text.swapcase()"
   ]
  },
  {
   "cell_type": "code",
   "execution_count": 6,
   "id": "3be7ade4-24e4-4256-992b-0ac1d5ba6d38",
   "metadata": {},
   "outputs": [
    {
     "data": {
      "text/plain": [
       "'Hello world'"
      ]
     },
     "execution_count": 6,
     "metadata": {},
     "output_type": "execute_result"
    }
   ],
   "source": [
    "text.capitalize()"
   ]
  },
  {
   "cell_type": "code",
   "execution_count": 7,
   "id": "d277bd0e-049f-4bd2-b315-d71da2165f6a",
   "metadata": {},
   "outputs": [
    {
     "data": {
      "text/plain": [
       "'          world     '"
      ]
     },
     "execution_count": 7,
     "metadata": {},
     "output_type": "execute_result"
    }
   ],
   "source": [
    "c=\"          world     \"\n",
    "c"
   ]
  },
  {
   "cell_type": "markdown",
   "id": "5e2c9f12-de88-49f7-aff8-85f8dcc5ad7c",
   "metadata": {},
   "source": [
    "c.strip()"
   ]
  },
  {
   "cell_type": "markdown",
   "id": "a2a22dbf-e54f-4259-b90c-5f364c73f07e",
   "metadata": {},
   "source": [
    "data = \"pawan,python,student\"\n",
    "data"
   ]
  },
  {
   "cell_type": "code",
   "execution_count": 10,
   "id": "b2baf01b-375c-4c18-b0c2-7effe93e54bc",
   "metadata": {},
   "outputs": [],
   "source": [
    "d=data.split(',')"
   ]
  },
  {
   "cell_type": "markdown",
   "id": "d278550e-b345-4406-9920-c7c924cb101c",
   "metadata": {},
   "source": [
    "d"
   ]
  },
  {
   "cell_type": "code",
   "execution_count": 12,
   "id": "ba4ab749-a3b7-439c-b743-2aa9fe977c4d",
   "metadata": {},
   "outputs": [
    {
     "name": "stdout",
     "output_type": "stream",
     "text": [
      "hello pawan,hi?\n"
     ]
    }
   ],
   "source": [
    "#string formatting\n",
    "name=\"pawan\"\n",
    "greetings=f\"hello {name},hi?\"\n",
    "print(greetings)"
   ]
  },
  {
   "cell_type": "markdown",
   "id": "ace7fc8e-596b-49fa-aa11-f5214adfe94c",
   "metadata": {},
   "source": [
    "Lists"
   ]
  },
  {
   "cell_type": "code",
   "execution_count": 15,
   "id": "74397b1e-1366-4b1a-a730-95ab0d0b5781",
   "metadata": {},
   "outputs": [
    {
     "data": {
      "text/plain": [
       "['abc', 'pqr', 'xyz']"
      ]
     },
     "execution_count": 15,
     "metadata": {},
     "output_type": "execute_result"
    }
   ],
   "source": [
    "list1 = [\"abc\" ,\"pqr\",\"xyz\"]\n",
    "list1"
   ]
  },
  {
   "cell_type": "code",
   "execution_count": 17,
   "id": "e5dc754a-3dfa-4d0b-b21e-f366490742b0",
   "metadata": {},
   "outputs": [
    {
     "data": {
      "text/plain": [
       "['abc', 'pqr', 'xyz']"
      ]
     },
     "execution_count": 17,
     "metadata": {},
     "output_type": "execute_result"
    }
   ],
   "source": [
    "list1.sort()\n",
    "list1"
   ]
  },
  {
   "cell_type": "code",
   "execution_count": 18,
   "id": "d85788ff-e8be-430d-b190-5dc09b6cd080",
   "metadata": {},
   "outputs": [],
   "source": [
    "del list1"
   ]
  },
  {
   "cell_type": "code",
   "execution_count": 20,
   "id": "b93e7ae5-51af-4a95-9da9-384b83490a4c",
   "metadata": {},
   "outputs": [
    {
     "data": {
      "text/plain": [
       "['abc', 'pqr', 'xyz']"
      ]
     },
     "execution_count": 20,
     "metadata": {},
     "output_type": "execute_result"
    }
   ],
   "source": [
    "list1 = [\"abc\" ,\"pqr\",\"xyz\"]\n",
    "list1\n"
   ]
  },
  {
   "cell_type": "code",
   "execution_count": 23,
   "id": "51c0c816-081a-4e93-82cf-1d6de3583d3a",
   "metadata": {},
   "outputs": [
    {
     "data": {
      "text/plain": [
       "['Abc', 'Pqr', 'Xyz']"
      ]
     },
     "execution_count": 23,
     "metadata": {},
     "output_type": "execute_result"
    }
   ],
   "source": [
    "[name.capitalize() for name in list1]"
   ]
  },
  {
   "cell_type": "code",
   "execution_count": 24,
   "id": "eca5823b-bc75-4711-8a26-7d9fbe45099c",
   "metadata": {},
   "outputs": [],
   "source": [
    "pairs = []\n",
    "for x in [1,2,3]:\n",
    "    for y in[4,5,6]:\n",
    "        pairs.append([x,y])"
   ]
  },
  {
   "cell_type": "code",
   "execution_count": 25,
   "id": "bb14025b-c409-45a6-8c2c-e4efab9ee719",
   "metadata": {},
   "outputs": [
    {
     "data": {
      "text/plain": [
       "[[1, 4], [1, 5], [1, 6], [2, 4], [2, 5], [2, 6], [3, 4], [3, 5], [3, 6]]"
      ]
     },
     "execution_count": 25,
     "metadata": {},
     "output_type": "execute_result"
    }
   ],
   "source": [
    "pairs"
   ]
  },
  {
   "cell_type": "code",
   "execution_count": 28,
   "id": "4f99e631-c15c-46bb-b0d0-bb80fcfba245",
   "metadata": {},
   "outputs": [
    {
     "data": {
      "text/plain": [
       "[[1, 4], [1, 5], [1, 6], [2, 4], [2, 5], [2, 6], [3, 4], [3, 5], [3, 6]]"
      ]
     },
     "execution_count": 28,
     "metadata": {},
     "output_type": "execute_result"
    }
   ],
   "source": [
    "[[x,y]for x in [1,2,3] for y in[4,5,6]]"
   ]
  },
  {
   "cell_type": "code",
   "execution_count": 29,
   "id": "30d5027d-e66f-4626-8521-ae85ead64db0",
   "metadata": {},
   "outputs": [
    {
     "data": {
      "text/plain": [
       "['plate1', 'plate2', 'plate3', 'plate4']"
      ]
     },
     "execution_count": 29,
     "metadata": {},
     "output_type": "execute_result"
    }
   ],
   "source": [
    "stack_of_plates = []\n",
    "stack_of_plates.append(\"plate1\")\n",
    "stack_of_plates.append(\"plate2\")\n",
    "stack_of_plates.append(\"plate3\")\n",
    "stack_of_plates.append(\"plate4\")\n",
    "stack_of_plates"
   ]
  },
  {
   "cell_type": "code",
   "execution_count": 32,
   "id": "22e36399-dbda-4b33-a8fa-38f6ee0b82d9",
   "metadata": {},
   "outputs": [
    {
     "data": {
      "text/plain": [
       "'plate4'"
      ]
     },
     "execution_count": 32,
     "metadata": {},
     "output_type": "execute_result"
    }
   ],
   "source": [
    "stack_of_plates.pop()"
   ]
  },
  {
   "cell_type": "code",
   "execution_count": 34,
   "id": "bd2f0751-b5d0-4fc3-8b49-a377925d6765",
   "metadata": {},
   "outputs": [],
   "source": [
    "from collections import deque\n"
   ]
  },
  {
   "cell_type": "code",
   "execution_count": 36,
   "id": "abdd1416-7b0e-451d-ae5d-1f3838de804c",
   "metadata": {},
   "outputs": [
    {
     "data": {
      "text/plain": [
       "deque(['cust1', 'cust2', 'cust3', 'cust4'])"
      ]
     },
     "execution_count": 36,
     "metadata": {},
     "output_type": "execute_result"
    }
   ],
   "source": [
    "checkout = deque()\n",
    "checkout.append(\"cust1\")\n",
    "checkout.append(\"cust2\")\n",
    "checkout.append(\"cust3\")\n",
    "checkout.append(\"cust4\")\n",
    "checkout"
   ]
  },
  {
   "cell_type": "code",
   "execution_count": 38,
   "id": "0e9c22b2-244d-4273-83a6-569e40d8abc2",
   "metadata": {},
   "outputs": [
    {
     "name": "stdout",
     "output_type": "stream",
     "text": [
      "printing a\n",
      "printing b\n",
      "printing c\n"
     ]
    }
   ],
   "source": [
    "from queue import Queue\n",
    "print_queue=Queue()\n",
    "print_queue.put(\"a\")\n",
    "print_queue.put(\"b\")\n",
    "print_queue.put(\"c\")\n",
    "\n",
    "while not print_queue.empty():\n",
    "    print_job = print_queue.get()\n",
    "    print(\"printing\",print_job)"
   ]
  },
  {
   "cell_type": "code",
   "execution_count": 1,
   "id": "7d95e4f4-39a8-4990-a8bf-6fccdcd0da66",
   "metadata": {},
   "outputs": [],
   "source": [
    "s = {1}"
   ]
  },
  {
   "cell_type": "code",
   "execution_count": 2,
   "id": "a90dc8fa-1f78-47eb-8ad0-84c5b1fdf927",
   "metadata": {},
   "outputs": [
    {
     "data": {
      "text/plain": [
       "set"
      ]
     },
     "execution_count": 2,
     "metadata": {},
     "output_type": "execute_result"
    }
   ],
   "source": [
    "type(s)"
   ]
  },
  {
   "cell_type": "code",
   "execution_count": 5,
   "id": "344cdd07-8440-40a5-995d-6de2ab765133",
   "metadata": {},
   "outputs": [
    {
     "data": {
      "text/plain": [
       "{1, 2, 'ajay'}"
      ]
     },
     "execution_count": 5,
     "metadata": {},
     "output_type": "execute_result"
    }
   ],
   "source": [
    "s = {2,1,2,2,\"ajay\",\"ajay\"}\n",
    "s"
   ]
  },
  {
   "cell_type": "code",
   "execution_count": 6,
   "id": "7a176d07-7f4d-40cd-8d01-0ae623fc7a6c",
   "metadata": {},
   "outputs": [],
   "source": [
    "s.add(100)"
   ]
  },
  {
   "cell_type": "code",
   "execution_count": 7,
   "id": "0eb6e524-fdde-435d-bc46-23cb8f795d68",
   "metadata": {},
   "outputs": [
    {
     "data": {
      "text/plain": [
       "{1, 100, 2, 'ajay'}"
      ]
     },
     "execution_count": 7,
     "metadata": {},
     "output_type": "execute_result"
    }
   ],
   "source": [
    "s"
   ]
  },
  {
   "cell_type": "code",
   "execution_count": 8,
   "id": "11ab50ef-1c4e-481d-bec5-674571221262",
   "metadata": {},
   "outputs": [
    {
     "data": {
      "text/plain": [
       "1"
      ]
     },
     "execution_count": 8,
     "metadata": {},
     "output_type": "execute_result"
    }
   ],
   "source": [
    "s.pop()"
   ]
  },
  {
   "cell_type": "code",
   "execution_count": 9,
   "id": "fb626a4d-fc33-4ac6-aa13-28c51b876e06",
   "metadata": {},
   "outputs": [
    {
     "data": {
      "text/plain": [
       "{100, 2, 'ajay'}"
      ]
     },
     "execution_count": 9,
     "metadata": {},
     "output_type": "execute_result"
    }
   ],
   "source": [
    "s"
   ]
  },
  {
   "cell_type": "code",
   "execution_count": 10,
   "id": "0e43d737-5238-4ff1-ba68-046fcfbe74a9",
   "metadata": {},
   "outputs": [
    {
     "ename": "TypeError",
     "evalue": "set.pop() takes no arguments (1 given)",
     "output_type": "error",
     "traceback": [
      "\u001b[1;31m---------------------------------------------------------------------------\u001b[0m",
      "\u001b[1;31mTypeError\u001b[0m                                 Traceback (most recent call last)",
      "Cell \u001b[1;32mIn[10], line 1\u001b[0m\n\u001b[1;32m----> 1\u001b[0m s\u001b[38;5;241m.\u001b[39mpop(\u001b[38;5;241m2\u001b[39m)\n",
      "\u001b[1;31mTypeError\u001b[0m: set.pop() takes no arguments (1 given)"
     ]
    }
   ],
   "source": [
    "s.pop(2)"
   ]
  },
  {
   "cell_type": "code",
   "execution_count": 11,
   "id": "1397e00e-613b-4ab2-b400-d822d132d9a8",
   "metadata": {},
   "outputs": [],
   "source": [
    "s.update(\"abc\")"
   ]
  },
  {
   "cell_type": "code",
   "execution_count": 12,
   "id": "9dde69be-d2c3-4d71-95e2-3dec38cfdd11",
   "metadata": {},
   "outputs": [
    {
     "data": {
      "text/plain": [
       "{100, 2, 'a', 'ajay', 'b', 'c'}"
      ]
     },
     "execution_count": 12,
     "metadata": {},
     "output_type": "execute_result"
    }
   ],
   "source": [
    "s"
   ]
  },
  {
   "cell_type": "code",
   "execution_count": 13,
   "id": "0fb02f45-787c-40c4-9a20-44c0c6c36b1d",
   "metadata": {},
   "outputs": [],
   "source": [
    "s.remove(2)"
   ]
  },
  {
   "cell_type": "code",
   "execution_count": 14,
   "id": "a9293413-33d7-40dd-8906-8e676d16dde7",
   "metadata": {},
   "outputs": [
    {
     "data": {
      "text/plain": [
       "{100, 'a', 'ajay', 'b', 'c'}"
      ]
     },
     "execution_count": 14,
     "metadata": {},
     "output_type": "execute_result"
    }
   ],
   "source": [
    "s"
   ]
  },
  {
   "cell_type": "code",
   "execution_count": 15,
   "id": "a2c12fc9-6946-4dbf-b688-ae7f7682d540",
   "metadata": {},
   "outputs": [],
   "source": [
    "s.discard(101)"
   ]
  },
  {
   "cell_type": "code",
   "execution_count": 16,
   "id": "efb82518-eed6-4fea-a271-24fe8e1b6767",
   "metadata": {},
   "outputs": [
    {
     "data": {
      "text/plain": [
       "{100, 'a', 'ajay', 'b', 'c'}"
      ]
     },
     "execution_count": 16,
     "metadata": {},
     "output_type": "execute_result"
    }
   ],
   "source": [
    "s"
   ]
  },
  {
   "cell_type": "code",
   "execution_count": 17,
   "id": "344cc48f-7ac9-4e11-8826-b2132429c78d",
   "metadata": {},
   "outputs": [
    {
     "data": {
      "text/plain": [
       "({'coding', 'hacking', 'reading'}, {'coding', 'photography', 'travelling'})"
      ]
     },
     "execution_count": 17,
     "metadata": {},
     "output_type": "execute_result"
    }
   ],
   "source": [
    "s1={\"hacking\",\"reading\",\"coding\"}\n",
    "s2={\"coding\",\"photography\",\"travelling\"}\n",
    "s1,s2"
   ]
  },
  {
   "cell_type": "code",
   "execution_count": 18,
   "id": "0fcef97a-b8e4-4467-ac81-c357d4caf007",
   "metadata": {},
   "outputs": [
    {
     "data": {
      "text/plain": [
       "{'coding', 'hacking', 'photography', 'reading', 'travelling'}"
      ]
     },
     "execution_count": 18,
     "metadata": {},
     "output_type": "execute_result"
    }
   ],
   "source": [
    "s1 | s2"
   ]
  },
  {
   "cell_type": "code",
   "execution_count": 19,
   "id": "c02401e3-fc6f-4b44-846c-51d2f02d63f5",
   "metadata": {},
   "outputs": [
    {
     "data": {
      "text/plain": [
       "{'coding'}"
      ]
     },
     "execution_count": 19,
     "metadata": {},
     "output_type": "execute_result"
    }
   ],
   "source": [
    "s1 & s2"
   ]
  },
  {
   "cell_type": "code",
   "execution_count": 20,
   "id": "0706e48e-9b31-47ad-84d3-84a10ba69e32",
   "metadata": {},
   "outputs": [
    {
     "data": {
      "text/plain": [
       "{'hacking', 'reading'}"
      ]
     },
     "execution_count": 20,
     "metadata": {},
     "output_type": "execute_result"
    }
   ],
   "source": [
    "s1-s2"
   ]
  },
  {
   "cell_type": "code",
   "execution_count": 21,
   "id": "4cd420c5-b364-4698-bb66-727535092fde",
   "metadata": {},
   "outputs": [
    {
     "data": {
      "text/plain": [
       "{'hacking', 'photography', 'reading', 'travelling'}"
      ]
     },
     "execution_count": 21,
     "metadata": {},
     "output_type": "execute_result"
    }
   ],
   "source": [
    "s1 ^ s2"
   ]
  },
  {
   "cell_type": "code",
   "execution_count": 22,
   "id": "fcdd30c3-ddee-4f61-9edb-c34f792a3238",
   "metadata": {},
   "outputs": [],
   "source": [
    "#frozen sets\n",
    "s = {1,2,3}"
   ]
  },
  {
   "cell_type": "code",
   "execution_count": 23,
   "id": "8a51386f-3172-4638-8103-8153921fb9a2",
   "metadata": {},
   "outputs": [
    {
     "data": {
      "text/plain": [
       "{1, 2, 3}"
      ]
     },
     "execution_count": 23,
     "metadata": {},
     "output_type": "execute_result"
    }
   ],
   "source": [
    "s"
   ]
  },
  {
   "cell_type": "code",
   "execution_count": 24,
   "id": "a33f2737-c29d-4e64-b2a3-e9dfd38f908c",
   "metadata": {},
   "outputs": [],
   "source": [
    "s.add(100)"
   ]
  },
  {
   "cell_type": "code",
   "execution_count": 25,
   "id": "1cd9c3ce-ec96-4524-bb2b-40bc7bd5aaf4",
   "metadata": {},
   "outputs": [
    {
     "data": {
      "text/plain": [
       "{1, 2, 3, 100}"
      ]
     },
     "execution_count": 25,
     "metadata": {},
     "output_type": "execute_result"
    }
   ],
   "source": [
    "s"
   ]
  },
  {
   "cell_type": "code",
   "execution_count": 28,
   "id": "528ab537-769a-4174-8a23-29c648323480",
   "metadata": {},
   "outputs": [
    {
     "data": {
      "text/plain": [
       "frozenset({1, 2, 3, 4, 5})"
      ]
     },
     "execution_count": 28,
     "metadata": {},
     "output_type": "execute_result"
    }
   ],
   "source": [
    "my_fs=frozenset([1,2,2,2,3,3,4,5])\n",
    "my_fs"
   ]
  },
  {
   "cell_type": "code",
   "execution_count": 29,
   "id": "eed7a616-2d5c-436b-9450-8acb6c6b13c4",
   "metadata": {},
   "outputs": [
    {
     "data": {
      "text/plain": [
       "frozenset"
      ]
     },
     "execution_count": 29,
     "metadata": {},
     "output_type": "execute_result"
    }
   ],
   "source": [
    "type(my_fs)"
   ]
  },
  {
   "cell_type": "code",
   "execution_count": null,
   "id": "21493ab1-60f9-4a50-81cd-e3fa7a429570",
   "metadata": {},
   "outputs": [],
   "source": []
  }
 ],
 "metadata": {
  "kernelspec": {
   "display_name": "Python 3 (ipykernel)",
   "language": "python",
   "name": "python3"
  },
  "language_info": {
   "codemirror_mode": {
    "name": "ipython",
    "version": 3
   },
   "file_extension": ".py",
   "mimetype": "text/x-python",
   "name": "python",
   "nbconvert_exporter": "python",
   "pygments_lexer": "ipython3",
   "version": "3.12.4"
  }
 },
 "nbformat": 4,
 "nbformat_minor": 5
}
