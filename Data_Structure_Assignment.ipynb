{
 "cells": [
  {
   "cell_type": "raw",
   "id": "c8eb5a95-5e76-4f71-97fc-09d80b6318d1",
   "metadata": {},
   "source": [
    "Q1.Discuss string slicing and provide examples.\n",
    "Answer :-\n",
    " there are two methods of string slicing.one by using built-in method that is slice() method.\n",
    "another is array slice [:] method.\n",
    "\n",
    "Method 1: Using the slice() method\n",
    "The slice() constructor creates slice object by representing the set of indices by range(start,stop,step).\n",
    "syntax :- slice(stop)\n",
    "          slice(start, stop, step)\n",
    "ex :-"
   ]
  },
  {
   "cell_type": "code",
   "execution_count": 1,
   "id": "d669a635-7fbb-4086-b61c-42bd6829dc43",
   "metadata": {},
   "outputs": [
    {
     "name": "stdout",
     "output_type": "stream",
     "text": [
      "String slicing\n",
      "AST\n",
      "SR\n",
      "GITA\n"
     ]
    }
   ],
   "source": [
    "String = 'ASTRING'\n",
    "\n",
    "s1 = slice(3)\n",
    "s2 = slice(1, 5, 2)\n",
    "s3 = slice(-1, -12, -2)\n",
    "\n",
    "print(\"String slicing\")\n",
    "print(String[s1])\n",
    "print(String[s2])\n",
    "print(String[s3])"
   ]
  },
  {
   "cell_type": "raw",
   "id": "00326c2b-3cca-4b39-afce-e12d3bdfdf9a",
   "metadata": {},
   "source": [
    "Method 2: Using the List/array slicing  [ :: ]  method\n",
    "This is an easy and convenient way to slice a string using list slicing and Array slicing both syntax-wise and execution-wise. \n",
    "A start, end, and step have the same mechanism as the slice() constructor. \n",
    "syntax :- arr[start:stop]     \n",
    "          arr[start:]           \n",
    "          arr[:stop]       \n",
    "          arr[:] \n",
    "          arr[start:stop:step] \n",
    "ex :-"
   ]
  },
  {
   "cell_type": "code",
   "execution_count": 3,
   "id": "71b0ca48-878a-48b7-a978-a60b30c126e4",
   "metadata": {},
   "outputs": [
    {
     "name": "stdout",
     "output_type": "stream",
     "text": [
      "hel\n",
      "lo world\n"
     ]
    }
   ],
   "source": [
    "String = \"hello world\"\n",
    "\n",
    "print(String[:3])\n",
    "print(String[3:])"
   ]
  },
  {
   "cell_type": "raw",
   "id": "9ebdf957-5e1b-4769-a0af-98e5a8412d1e",
   "metadata": {},
   "source": [
    "Q2.Explain the key features of lists an Python\n",
    "Answer :-\n",
    "  Lists are mutable and dynamic:- list items can be added, removed or changed after the list is defined.\n",
    "   Lists are ordered:- newly added items will be placed at the end of the list. Lists use zero-based indexing; every list item has an associated index, and the first item's index is 0.\n",
    "Portable Language. \n",
    "It is a cross-platform language.\n",
    "Standard Library.\n",
    "High-Level Language.\n",
    "Easy to learn and use.\n",
    "Dynamic Language.\n",
    "Extensible Language.\n",
    "Interpreted Language.\n",
    "Object-Oriented Programming Language."
   ]
  },
  {
   "cell_type": "raw",
   "id": "42806a94-5797-420c-93a1-1a590514e406",
   "metadata": {},
   "source": [
    "Q3.Describe hos to access,modify and delete elements in a list with examples\n",
    "Answer :-\n",
    "  1)access list\n",
    "      indexing and slicing are the most common means that are used to access lists. We can also access items in a list with loops like the for loop.\n",
    "Slicing\n",
    "Unlike indexing that only returns one item, slicing on the other hand can return a range of items.\n",
    "ex :- "
   ]
  },
  {
   "cell_type": "code",
   "execution_count": 5,
   "id": "707c9f4a-ecd0-4e66-bb66-52cc6691545e",
   "metadata": {},
   "outputs": [
    {
     "data": {
      "text/plain": [
       "['red', 'blue', 'green', 'yellow', 'black']"
      ]
     },
     "execution_count": 5,
     "metadata": {},
     "output_type": "execute_result"
    }
   ],
   "source": [
    "colors = ['red','blue','green','yellow','black']\n",
    "colors"
   ]
  },
  {
   "cell_type": "code",
   "execution_count": 8,
   "id": "4adc5a09-510e-49ae-9e45-3b1bd34c93bb",
   "metadata": {},
   "outputs": [
    {
     "data": {
      "text/plain": [
       "'black'"
      ]
     },
     "execution_count": 8,
     "metadata": {},
     "output_type": "execute_result"
    }
   ],
   "source": [
    "colors[4]"
   ]
  },
  {
   "cell_type": "code",
   "execution_count": 9,
   "id": "9a5ce6db-64bb-4d4d-bd29-6106036dceed",
   "metadata": {},
   "outputs": [
    {
     "data": {
      "text/plain": [
       "['red', 'blue', 'green']"
      ]
     },
     "execution_count": 9,
     "metadata": {},
     "output_type": "execute_result"
    }
   ],
   "source": [
    "colors[0:3]"
   ]
  },
  {
   "cell_type": "raw",
   "id": "fbbd83ba-539b-4308-8082-942b73e71466",
   "metadata": {},
   "source": [
    "2)modify list\n",
    "we can modify list by using built-in functions like append(),extend(),indexing and slicing,etc.\n",
    "ex :-"
   ]
  },
  {
   "cell_type": "code",
   "execution_count": 23,
   "id": "cd8aa4be-aa80-4ca3-84d5-fa184e2d4852",
   "metadata": {},
   "outputs": [
    {
     "data": {
      "text/plain": [
       "[]"
      ]
     },
     "execution_count": 23,
     "metadata": {},
     "output_type": "execute_result"
    }
   ],
   "source": [
    "l=list()\n",
    "l"
   ]
  },
  {
   "cell_type": "code",
   "execution_count": 26,
   "id": "ed0e8d2d-0cc9-4f9b-8e42-1055736acd8f",
   "metadata": {},
   "outputs": [
    {
     "data": {
      "text/plain": [
       "['abc', 'abc', 'abc']"
      ]
     },
     "execution_count": 26,
     "metadata": {},
     "output_type": "execute_result"
    }
   ],
   "source": [
    "l.append(\"abc\")\n",
    "l"
   ]
  },
  {
   "cell_type": "code",
   "execution_count": 28,
   "id": "b4b54b8f-8523-418a-80fa-4d963624a5e4",
   "metadata": {},
   "outputs": [
    {
     "data": {
      "text/plain": [
       "['abc', 'abc', 'abc', 'p', 'q', 'r']"
      ]
     },
     "execution_count": 28,
     "metadata": {},
     "output_type": "execute_result"
    }
   ],
   "source": [
    "l.extend(\"pqr\")\n",
    "l"
   ]
  },
  {
   "cell_type": "raw",
   "id": "9e07e055-5357-4f1f-a360-62c8303e16c0",
   "metadata": {},
   "source": [
    "3)Delete \n",
    "by using del keyword we can delete the whole list\n",
    "ex :-"
   ]
  },
  {
   "cell_type": "code",
   "execution_count": 29,
   "id": "9ad6b6bb-43d7-4fd7-8638-d32b7178afa9",
   "metadata": {},
   "outputs": [],
   "source": [
    "del l"
   ]
  },
  {
   "cell_type": "raw",
   "id": "a6458034-3365-46b0-8e6a-557dc7c684f6",
   "metadata": {},
   "source": [
    "Q4)Compare and contrast tuples and lists with examples\n",
    "Answer :-\n",
    "\n",
    "       LIST                                          TUPLE\n",
    "\n",
    "1\tLists are mutable                           Tuples are immutable\n",
    "2\tThe implication of iterations               The implication of iterations is comparatively    \n",
    "    is Time-consuming.                          Faster.                   \n",
    "3\tThe list is better for performing           A Tuple data type is appropriate for accessing\n",
    "    operations, such as insertion               for accessing the elements.\n",
    "     and deletion.\n",
    "4\tLists consume more memory\t                Tuple consumes less memory as compared to the                                                     list.\n",
    "5\tLists have several built-in methods.        Tuple does not have many built-in methods.\n",
    "6\tUnexpected changes and errors are more      Because tuples don’t change they are far less \n",
    "    likely to occur.                            error-prone.\n",
    "7   ex:- List = [1, 2, 4, 4]                    ex:-  mytuple = (\"pawan\")  \n",
    "    print(\"Original list \", List                      print(type(mytuple))  \n",
    "    O/P:-Original list [1, 2, 4, 4]                   O/P:- <class 'tuple'>"
   ]
  },
  {
   "cell_type": "raw",
   "id": "24ebc8c0-b469-4ac6-9a9f-8983ddd9e98a",
   "metadata": {},
   "source": [
    "Q5)Describe the key features of sets and provide examples of their use\n",
    "Answer:-\n",
    "   Sets are a well-defined collection of objects.\n",
    " Objects that a set contains are called the elements of the set.\n",
    " We can also consider sets as collections of elements that have a common feature.\n",
    " The symbol used for sets is {…..}. Only the collection of data with specific characteristics is   called a set.\n",
    "\n",
    "Key Features :-\n",
    "1.Confidentiality of information.\n",
    "2.Integrity of data.\n",
    "3.Cardholder account authentication.\n",
    "4.Merchant authentication.\n",
    "\n",
    "ex:-"
   ]
  },
  {
   "cell_type": "code",
   "execution_count": 31,
   "id": "a312af56-294b-432c-912f-2660be90e489",
   "metadata": {},
   "outputs": [
    {
     "data": {
      "text/plain": [
       "set"
      ]
     },
     "execution_count": 31,
     "metadata": {},
     "output_type": "execute_result"
    }
   ],
   "source": [
    "var = {\"Hello\", \"coder\"}\n",
    "type(var)"
   ]
  },
  {
   "cell_type": "code",
   "execution_count": 32,
   "id": "462df0ae-d291-46c1-917a-61b4b715fb7b",
   "metadata": {},
   "outputs": [
    {
     "name": "stdout",
     "output_type": "stream",
     "text": [
      "{'Hello', 'd', 'coder'}\n"
     ]
    }
   ],
   "source": [
    "var.add(\"d\")\n",
    "print(var)"
   ]
  },
  {
   "cell_type": "raw",
   "id": "4254e74d-ee9e-426e-89b9-3d52fdde3250",
   "metadata": {},
   "source": [
    "Q6)Discuss the use cases of tuples and sets in Python programming\n",
    "Answer :-\n",
    "\n",
    "1.tuples\n",
    "  Tuples are used to store multiple items in a single variable.\n",
    "Tuple is one of 4 built-in data types in Python used to store collections of data, the other 3 are List, Set, and Dictionary, all with different qualities and usage.\n",
    "A tuple is a collection which is ordered and unchangeable.\n",
    "\n",
    "2.sets\n",
    "  A common use of sets in Python is computing standard math operations such as union, intersection, difference, and symmetric difference. \n",
    "The image below shows a couple standard math operations on two sets A and B. The red part of each Venn diagram is the resulting set of a given set operation."
   ]
  },
  {
   "cell_type": "raw",
   "id": "2d0b93ec-55c9-4e48-a465-39bf1e5ffc21",
   "metadata": {},
   "source": [
    "Q7)Describe how to add,modify,and delete items an a dictionary with examples\n",
    "Answer :-\n",
    "   A Python dictionary is a data structure that stores the value in key: value pairs.\n",
    "Python dictionaries are essential for efficient data mapping and manipulation in programming.\n",
    "Dictionaries in Python is a data structure, used to store values in key: value format. This makes it different from lists, tuples, and arrays as in a dictionary each key has an associated value.\n",
    "\n",
    "1.add\n",
    " The addition of elements can be done in multiple ways. One value at a time can be added to a Dictionary by defining value along with the key.\n",
    "ex:-"
   ]
  },
  {
   "cell_type": "code",
   "execution_count": 40,
   "id": "a63ad3c4-36bf-424d-b52c-cc112e7bc2ce",
   "metadata": {},
   "outputs": [],
   "source": [
    "Dict = {}\n"
   ]
  },
  {
   "cell_type": "code",
   "execution_count": 41,
   "id": "33583ae1-2e8e-4b8b-9a67-7395ae3401e9",
   "metadata": {},
   "outputs": [
    {
     "data": {
      "text/plain": [
       "{0: 'hello', 2: 'world', 3: 1}"
      ]
     },
     "execution_count": 41,
     "metadata": {},
     "output_type": "execute_result"
    }
   ],
   "source": [
    "Dict[0] = 'hello'\n",
    "Dict[2] = 'world'\n",
    "Dict[3] = 1\n",
    "Dict"
   ]
  },
  {
   "cell_type": "raw",
   "id": "cd300bfa-a4c3-463f-8c6d-ebc3d27d9289",
   "metadata": {},
   "source": [
    "2.modify\n",
    "  we can modify dictionary by using update() method.\n",
    "ex:-"
   ]
  },
  {
   "cell_type": "code",
   "execution_count": 46,
   "id": "c6a88dc8-2995-48d2-83c7-71855cb3dc9c",
   "metadata": {},
   "outputs": [
    {
     "data": {
      "text/plain": [
       "{0: 'hello', 2: 'world', 3: 1, 4: 'hi'}"
      ]
     },
     "execution_count": 46,
     "metadata": {},
     "output_type": "execute_result"
    }
   ],
   "source": [
    "Dict.update({4:\"hi\"})\n",
    "Dict"
   ]
  },
  {
   "cell_type": "raw",
   "id": "d2325ac0-3d06-40fd-af4f-7aae56a5b556",
   "metadata": {},
   "source": [
    "3.Delete\n",
    " The items of the dictionary can be deleted by using the del keyword.\n",
    "ex:-"
   ]
  },
  {
   "cell_type": "code",
   "execution_count": 47,
   "id": "21b6aa2d-b5d8-4c25-84b9-46f3988e0341",
   "metadata": {},
   "outputs": [],
   "source": [
    "del(Dict)"
   ]
  },
  {
   "cell_type": "raw",
   "id": "7be7a84a-1e3e-45d3-bd32-f3dc3be55424",
   "metadata": {},
   "source": [
    "Q8) Discuss the importance of dictionary keys being immutable and provide examples\n",
    "Answer :-\n",
    "  Python dictionary keys must always be immutable, which means you can not update the dictionary key in runtime.\n",
    "The hash table implementation of dictionaries uses a hash value calculated from the key value to find the key. \n",
    "If the key were a mutable object, its value could change, and thus its hash could also change.\n",
    "Values can be any type of object, but keys must be immutable. \n",
    "This means keys could be integers, strings, or tuples, but not lists, because lists are mutable. Dictionaries themselves are mutable, so entries can be added, removed, and changed at any time.\n",
    "ex:-"
   ]
  },
  {
   "cell_type": "code",
   "execution_count": 48,
   "id": "1d1e3e8d-0926-4422-827e-50e73e3ca582",
   "metadata": {},
   "outputs": [
    {
     "name": "stdout",
     "output_type": "stream",
     "text": [
      "{1: 'hello', 2: 'world', 3: {'A': 'Welcome', 'B': 'To', 'C': 'Coding'}}\n"
     ]
    }
   ],
   "source": [
    "Dict = {1: 'hello', 2: 'world',\n",
    "        3: {'A': 'Welcome', 'B': 'To', 'C': 'Coding'}}\n",
    "\n",
    "print(Dict)"
   ]
  },
  {
   "cell_type": "code",
   "execution_count": 49,
   "id": "123b8702-2888-4d4c-b3b5-c58c7fbbad08",
   "metadata": {},
   "outputs": [
    {
     "name": "stdout",
     "output_type": "stream",
     "text": [
      "{'A': 'Welcome', 'B': 'To', 'C': 'Coding'}\n"
     ]
    }
   ],
   "source": [
    "print(Dict.get(3))"
   ]
  },
  {
   "cell_type": "code",
   "execution_count": null,
   "id": "db9c8702-4760-4152-b777-b185460f60cb",
   "metadata": {},
   "outputs": [],
   "source": []
  }
 ],
 "metadata": {
  "kernelspec": {
   "display_name": "Python 3 (ipykernel)",
   "language": "python",
   "name": "python3"
  },
  "language_info": {
   "codemirror_mode": {
    "name": "ipython",
    "version": 3
   },
   "file_extension": ".py",
   "mimetype": "text/x-python",
   "name": "python",
   "nbconvert_exporter": "python",
   "pygments_lexer": "ipython3",
   "version": "3.12.4"
  }
 },
 "nbformat": 4,
 "nbformat_minor": 5
}
